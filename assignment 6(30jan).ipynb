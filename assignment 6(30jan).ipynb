{
 "cells": [
  {
   "cell_type": "markdown",
   "id": "30125422-e8e4-4904-9bfa-50cca714af90",
   "metadata": {},
   "source": [
    "1. Write a program to accept percentage from the user and display the grade according to the criteria:"
   ]
  },
  {
   "cell_type": "code",
   "execution_count": 12,
   "id": "d6186c6f-aa57-4707-869b-aaba3eb3c937",
   "metadata": {},
   "outputs": [
    {
     "name": "stdin",
     "output_type": "stream",
     "text": [
      "Enter your percents:  56\n"
     ]
    },
    {
     "name": "stdout",
     "output_type": "stream",
     "text": [
      "Grade:  D\n"
     ]
    }
   ],
   "source": [
    "a = int(input(\"Enter your percents: \"))\n",
    "if a>90:\n",
    "        print(\"Grade: \",\"A\")\n",
    "elif a<=90 and a>80:\n",
    "        print(\"Grade: \",\"B\")\n",
    "elif a<=80 and a>=60:\n",
    "        print(\"Grade: \",\"C\")\n",
    "else:\n",
    "        print(\"Grade: \",\"D\")"
   ]
  },
  {
   "cell_type": "markdown",
   "id": "614b7bc5-42ff-46f2-9323-40e2071ce40c",
   "metadata": {},
   "source": [
    "2. Write a program to accept the cost price of a bike and display the road tax to be paid according to the criteria:"
   ]
  },
  {
   "cell_type": "code",
   "execution_count": 4,
   "id": "b947d7dd-6c5c-46c9-b74d-a2ee7dc759ae",
   "metadata": {},
   "outputs": [
    {
     "name": "stdin",
     "output_type": "stream",
     "text": [
      "Enter the price of bike:  1562458\n"
     ]
    },
    {
     "name": "stdout",
     "output_type": "stream",
     "text": [
      "Tax to be paid: 15%\n"
     ]
    }
   ],
   "source": [
    "a = eval(input(\"Enter the price of bike: \"))\n",
    "if a>100000:\n",
    "    print(\"Tax to be paid: 15%\")\n",
    "elif a<=100000 and a>50000:\n",
    "    print(\"Tax to be paid: 10%\")\n",
    "else:\n",
    "    print(\"Tax to be paid: 5%\")\n",
    "         "
   ]
  },
  {
   "cell_type": "markdown",
   "id": "2d2f8361-2c9a-4d50-bc0b-f10d61f3d275",
   "metadata": {},
   "source": [
    "3. Accept any city from the user and display monuments of that city."
   ]
  },
  {
   "cell_type": "code",
   "execution_count": 5,
   "id": "ee323498-43f0-4203-910c-00742ba1c7ef",
   "metadata": {},
   "outputs": [
    {
     "name": "stdin",
     "output_type": "stream",
     "text": [
      "Enter the city name:  Jaipur\n"
     ]
    },
    {
     "name": "stdout",
     "output_type": "stream",
     "text": [
      "Jal Mahal\n"
     ]
    }
   ],
   "source": [
    "a = input(\"Enter the city name: \")\n",
    "if a == \"Delhi\":\n",
    "    print(\"Red Fort\")\n",
    "elif a==\"Agra\":\n",
    "    print(\"Taj Mahal\")\n",
    "elif a==\"Jaipur\":\n",
    "    print(\"Jal Mahal\")"
   ]
  },
  {
   "cell_type": "markdown",
   "id": "73f814a3-88a7-4361-bcf5-7d74ff4a98ae",
   "metadata": {},
   "source": [
    "4. Check how many times a given number can be divided by 3 before it is less than or equal to 10."
   ]
  },
  {
   "cell_type": "code",
   "execution_count": 2,
   "id": "5179c47e-ee59-47b4-a6df-c8f299025124",
   "metadata": {},
   "outputs": [
    {
     "name": "stdin",
     "output_type": "stream",
     "text": [
      "Enter a number:  360\n"
     ]
    },
    {
     "name": "stdout",
     "output_type": "stream",
     "text": [
      "4\n"
     ]
    }
   ],
   "source": [
    "a = eval(input(\"Enter a number: \"))\n",
    "count=0\n",
    "while a>10:\n",
    "    a=a/3\n",
    "    count = count+1\n",
    "print(count)"
   ]
  },
  {
   "cell_type": "markdown",
   "id": "7e860390-9cad-4783-a856-0dcda47296f8",
   "metadata": {},
   "source": [
    "5. Why and When to Use while Loop in Python give a detailed description with example"
   ]
  },
  {
   "cell_type": "markdown",
   "id": "875e2891-55c6-46b9-87f9-92cc4eca119b",
   "metadata": {},
   "source": [
    "Ans: Python while loop is used to run a block code until a certain condition is met."
   ]
  },
  {
   "cell_type": "code",
   "execution_count": 1,
   "id": "f93bf57f-f019-4fdf-a7b6-6337e9cd1a5c",
   "metadata": {},
   "outputs": [
    {
     "name": "stdout",
     "output_type": "stream",
     "text": [
      "0\n",
      "1\n",
      "2\n",
      "3\n",
      "4\n",
      "5\n",
      "6\n",
      "7\n",
      "8\n",
      "9\n"
     ]
    }
   ],
   "source": [
    "count=0\n",
    "while count<10:\n",
    "    print(count)\n",
    "    count = count + 1"
   ]
  },
  {
   "cell_type": "markdown",
   "id": "309d857d-a625-4209-bc59-bc13599483a4",
   "metadata": {},
   "source": [
    "6. Use nested while loop to print 3 different pattern."
   ]
  },
  {
   "cell_type": "code",
   "execution_count": 4,
   "id": "f84317e2-c76b-4d32-b84b-9a0d20405638",
   "metadata": {},
   "outputs": [
    {
     "name": "stdout",
     "output_type": "stream",
     "text": [
      "\n",
      "* \n",
      "* * \n",
      "* * * \n",
      "* * * * \n",
      "* * * * * \n",
      "* * * * * * \n",
      "* * * * * * * \n",
      "* * * * * * * * \n",
      "* * * * * * * * * \n",
      "* * * * * * * * * * \n"
     ]
    }
   ],
   "source": [
    "# first pattern\n",
    "i = 0 \n",
    "while i <=10:\n",
    "    j = 1\n",
    "    while j <= i:\n",
    "        print(\"*\",end=\" \")\n",
    "        j = j+1\n",
    "    print()\n",
    "    i = i+1\n",
    "    "
   ]
  },
  {
   "cell_type": "code",
   "execution_count": 6,
   "id": "aa122c62-b92e-4728-8f1b-ee259991375b",
   "metadata": {},
   "outputs": [
    {
     "name": "stdout",
     "output_type": "stream",
     "text": [
      "* * * * * * * * * * * \n",
      "* * * * * * * * * * \n",
      "* * * * * * * * * \n",
      "* * * * * * * * \n",
      "* * * * * * * \n",
      "* * * * * * \n",
      "* * * * * \n",
      "* * * * \n",
      "* * * \n",
      "* * \n",
      "* \n"
     ]
    }
   ],
   "source": [
    "# second pattern\n",
    "i = 0\n",
    "while i <=10:\n",
    "    j = 10\n",
    "    while j >= i:\n",
    "        print(\"*\",end=\" \")\n",
    "        j = j-1\n",
    "    print()\n",
    "    i = i+1\n"
   ]
  },
  {
   "cell_type": "code",
   "execution_count": 1,
   "id": "3fc65d78-5cea-431d-a157-dce7d77b3d95",
   "metadata": {},
   "outputs": [
    {
     "name": "stdout",
     "output_type": "stream",
     "text": [
      "           \n",
      "          * \n",
      "         * * \n",
      "        * * * \n",
      "       * * * * \n",
      "      * * * * * \n",
      "     * * * * * * \n",
      "    * * * * * * * \n",
      "   * * * * * * * * \n",
      "  * * * * * * * * * \n",
      " * * * * * * * * * * \n"
     ]
    }
   ],
   "source": [
    "# third pattern\n",
    "i = 0\n",
    "while i<=10:\n",
    "    print(\" \"*(10-i),\"* \" * i)\n",
    "    i+=1 "
   ]
  },
  {
   "cell_type": "markdown",
   "id": "c0db0afe-4ddb-4449-81cd-579d846f793f",
   "metadata": {},
   "source": [
    "7. Reverse a while loop to display numbers from 10 to 1"
   ]
  },
  {
   "cell_type": "code",
   "execution_count": 2,
   "id": "e3e930ec-72d0-451e-8033-da932e294a74",
   "metadata": {},
   "outputs": [
    {
     "name": "stdout",
     "output_type": "stream",
     "text": [
      "10\n",
      "9\n",
      "8\n",
      "7\n",
      "6\n",
      "5\n",
      "4\n",
      "3\n",
      "2\n",
      "1\n"
     ]
    }
   ],
   "source": [
    "i=10\n",
    "while i>=1:\n",
    "    print(i)\n",
    "    i = i-1"
   ]
  },
  {
   "cell_type": "markdown",
   "id": "f35782a9-627e-4012-92be-6e9c9538a282",
   "metadata": {},
   "source": [
    "8. Reverse a while loop to display numbers from 10 to 1"
   ]
  },
  {
   "cell_type": "code",
   "execution_count": 3,
   "id": "a05eddc0-e2b3-40a8-9006-f2232eadbf0b",
   "metadata": {},
   "outputs": [
    {
     "name": "stdout",
     "output_type": "stream",
     "text": [
      "10\n",
      "9\n",
      "8\n",
      "7\n",
      "6\n",
      "5\n",
      "4\n",
      "3\n",
      "2\n",
      "1\n"
     ]
    }
   ],
   "source": [
    "i=10\n",
    "while i>=1:\n",
    "    print(i)\n",
    "    i = i-1"
   ]
  },
  {
   "cell_type": "code",
   "execution_count": null,
   "id": "3c88df6d-8405-4f01-af1d-8a90f8770248",
   "metadata": {},
   "outputs": [],
   "source": [
    "# may be this question is .....\n",
    "i = 1\n",
    "while i <=10:\n",
    "    "
   ]
  }
 ],
 "metadata": {
  "kernelspec": {
   "display_name": "Python 3 (ipykernel)",
   "language": "python",
   "name": "python3"
  },
  "language_info": {
   "codemirror_mode": {
    "name": "ipython",
    "version": 3
   },
   "file_extension": ".py",
   "mimetype": "text/x-python",
   "name": "python",
   "nbconvert_exporter": "python",
   "pygments_lexer": "ipython3",
   "version": "3.10.8"
  }
 },
 "nbformat": 4,
 "nbformat_minor": 5
}
